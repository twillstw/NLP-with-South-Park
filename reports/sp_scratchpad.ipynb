{
 "cells": [
  {
   "cell_type": "code",
   "execution_count": 1,
   "metadata": {},
   "outputs": [],
   "source": [
    "import pandas as pd\n",
    "import numpy as np\n",
    "import matplotlib.pyplot as plt\n",
    "\n",
    "import seaborn as sns\n",
    "%matplotlib inline\n",
    "sns.set_style('darkgrid')"
   ]
  },
  {
   "cell_type": "code",
   "execution_count": 3,
   "metadata": {},
   "outputs": [],
   "source": [
    "lines = pd.read_csv('../data/All-seasons.csv')"
   ]
  },
  {
   "cell_type": "code",
   "execution_count": 4,
   "metadata": {},
   "outputs": [
    {
     "data": {
      "text/plain": [
       "(70896, 4)"
      ]
     },
     "execution_count": 4,
     "metadata": {},
     "output_type": "execute_result"
    }
   ],
   "source": [
    "lines.shape"
   ]
  },
  {
   "cell_type": "code",
   "execution_count": 5,
   "metadata": {},
   "outputs": [
    {
     "data": {
      "text/html": [
       "<div>\n",
       "<style scoped>\n",
       "    .dataframe tbody tr th:only-of-type {\n",
       "        vertical-align: middle;\n",
       "    }\n",
       "\n",
       "    .dataframe tbody tr th {\n",
       "        vertical-align: top;\n",
       "    }\n",
       "\n",
       "    .dataframe thead th {\n",
       "        text-align: right;\n",
       "    }\n",
       "</style>\n",
       "<table border=\"1\" class=\"dataframe\">\n",
       "  <thead>\n",
       "    <tr style=\"text-align: right;\">\n",
       "      <th></th>\n",
       "      <th>Season</th>\n",
       "      <th>Episode</th>\n",
       "      <th>Character</th>\n",
       "      <th>Line</th>\n",
       "    </tr>\n",
       "  </thead>\n",
       "  <tbody>\n",
       "    <tr>\n",
       "      <th>0</th>\n",
       "      <td>10</td>\n",
       "      <td>1</td>\n",
       "      <td>Stan</td>\n",
       "      <td>You guys, you guys! Chef is going away. \\n</td>\n",
       "    </tr>\n",
       "    <tr>\n",
       "      <th>1</th>\n",
       "      <td>10</td>\n",
       "      <td>1</td>\n",
       "      <td>Kyle</td>\n",
       "      <td>Going away? For how long?\\n</td>\n",
       "    </tr>\n",
       "    <tr>\n",
       "      <th>2</th>\n",
       "      <td>10</td>\n",
       "      <td>1</td>\n",
       "      <td>Stan</td>\n",
       "      <td>Forever.\\n</td>\n",
       "    </tr>\n",
       "    <tr>\n",
       "      <th>3</th>\n",
       "      <td>10</td>\n",
       "      <td>1</td>\n",
       "      <td>Chef</td>\n",
       "      <td>I'm sorry boys.\\n</td>\n",
       "    </tr>\n",
       "    <tr>\n",
       "      <th>4</th>\n",
       "      <td>10</td>\n",
       "      <td>1</td>\n",
       "      <td>Stan</td>\n",
       "      <td>Chef said he's been bored, so he joining a gro...</td>\n",
       "    </tr>\n",
       "  </tbody>\n",
       "</table>\n",
       "</div>"
      ],
      "text/plain": [
       "  Season Episode Character                                               Line\n",
       "0     10       1      Stan         You guys, you guys! Chef is going away. \\n\n",
       "1     10       1      Kyle                        Going away? For how long?\\n\n",
       "2     10       1      Stan                                         Forever.\\n\n",
       "3     10       1      Chef                                  I'm sorry boys.\\n\n",
       "4     10       1      Stan  Chef said he's been bored, so he joining a gro..."
      ]
     },
     "execution_count": 5,
     "metadata": {},
     "output_type": "execute_result"
    }
   ],
   "source": [
    "lines.head()"
   ]
  },
  {
   "cell_type": "code",
   "execution_count": 6,
   "metadata": {},
   "outputs": [
    {
     "data": {
      "text/plain": [
       "{'1',\n",
       " '10',\n",
       " '11',\n",
       " '12',\n",
       " '13',\n",
       " '14',\n",
       " '15',\n",
       " '16',\n",
       " '17',\n",
       " '18',\n",
       " '2',\n",
       " '3',\n",
       " '4',\n",
       " '5',\n",
       " '6',\n",
       " '7',\n",
       " '8',\n",
       " '9',\n",
       " 'Season'}"
      ]
     },
     "execution_count": 6,
     "metadata": {},
     "output_type": "execute_result"
    }
   ],
   "source": [
    "seasons = set(lines.loc[:,'Season'])\n",
    "seasons"
   ]
  },
  {
   "cell_type": "code",
   "execution_count": 7,
   "metadata": {},
   "outputs": [
    {
     "data": {
      "text/plain": [
       "3950"
      ]
     },
     "execution_count": 7,
     "metadata": {},
     "output_type": "execute_result"
    }
   ],
   "source": [
    "from collections import Counter\n",
    "\n",
    "counts = Counter(lines.Character)\n",
    "len(counts)"
   ]
  },
  {
   "cell_type": "code",
   "execution_count": 8,
   "metadata": {},
   "outputs": [
    {
     "data": {
      "text/plain": [
       "[('Cartman', 9774),\n",
       " ('Stan', 7680),\n",
       " ('Kyle', 7099),\n",
       " ('Butters', 2602),\n",
       " ('Randy', 2467),\n",
       " ('Mr. Garrison', 1002),\n",
       " ('Chef', 917),\n",
       " ('Kenny', 881),\n",
       " ('Sharon', 862),\n",
       " ('Mr. Mackey', 633),\n",
       " ('Gerald', 626),\n",
       " ('Jimmy', 597),\n",
       " ('Wendy', 585),\n",
       " ('Liane', 582),\n",
       " ('Sheila', 566),\n",
       " ('Jimbo', 556),\n",
       " ('Announcer', 407),\n",
       " ('Stephen', 357),\n",
       " ('Craig', 326),\n",
       " ('Clyde', 317),\n",
       " ('Jesus', 312),\n",
       " ('Linda', 290),\n",
       " ('Principal Victoria', 289),\n",
       " ('Mrs. Garrison', 282),\n",
       " ('Terrance', 282),\n",
       " ('Token', 278),\n",
       " ('Timmy', 263),\n",
       " ('Mayor', 245),\n",
       " ('Tweek', 233),\n",
       " ('Phillip', 222),\n",
       " ('Bebe', 221),\n",
       " ('Man', 211),\n",
       " ('Woman', 204),\n",
       " ('Satan', 203),\n",
       " ('Ike', 200),\n",
       " ('Michael', 198),\n",
       " ('Shelly', 196),\n",
       " ('Chris', 193),\n",
       " ('Scott', 192),\n",
       " ('Pip', 189),\n",
       " ('Officer Barbrady', 174),\n",
       " ('Ms. Choksondik', 155),\n",
       " ('Narrator', 151),\n",
       " ('Dr. Doctor', 151),\n",
       " ('Barbrady', 150),\n",
       " ('Stuart', 148),\n",
       " ('Mr. Hankey', 148),\n",
       " ('Mephesto', 141),\n",
       " ('Doctor', 140),\n",
       " ('Kids', 137)]"
      ]
     },
     "execution_count": 8,
     "metadata": {},
     "output_type": "execute_result"
    }
   ],
   "source": [
    "most_common = counts.most_common(50)\n",
    "most_common"
   ]
  },
  {
   "cell_type": "markdown",
   "metadata": {},
   "source": [
    "Plotting characters with the most lines:"
   ]
  },
  {
   "cell_type": "code",
   "execution_count": 9,
   "metadata": {},
   "outputs": [
    {
     "data": {
      "image/png": "[encoded data removed]",
      "text/plain": [
       "<Figure size 1080x576 with 1 Axes>"
      ]
     },
     "metadata": {
      "needs_background": "light"
     },
     "output_type": "display_data"
    }
   ],
   "source": [
    "names = [tup[0] for tup in most_common]\n",
    "counts = [tup[1] for tup in most_common]\n",
    "\n",
    "fig = plt.subplots(figsize=(15,8))\n",
    "_ = sns.barplot(names, counts)\n",
    "_ = plt.xlabel('Character name', fontsize=14)\n",
    "_ = plt.ylabel('Number of lines', fontsize=14)\n",
    "_ = plt.title('Line Counts', fontsize=14)\n",
    "_ = plt.xticks(rotation=70)"
   ]
  },
  {
   "cell_type": "markdown",
   "metadata": {},
   "source": [
    "Creating the word corpus and removing `\\n` pattern from the end of each line:"
   ]
  },
  {
   "cell_type": "code",
   "execution_count": 11,
   "metadata": {},
   "outputs": [
    {
     "data": {
      "text/plain": [
       "['You guys, you guys! Chef is going away.',\n",
       " 'Going away? For how long?',\n",
       " 'Forever.',\n",
       " \"I'm sorry boys.\",\n",
       " \"Chef said he's been bored, so he joining a group called the Super Adventure Club.\",\n",
       " 'Wow!',\n",
       " 'Chef?? What kind of questions do you think adventuring around the world is gonna answer?!',\n",
       " \"What's the meaning of life? Why are we here?\",\n",
       " \"I hope you're making the right choice.\",\n",
       " \"I'm gonna miss him.  I'm gonna miss Chef and I...and I don't know how to tell him!\"]"
      ]
     },
     "execution_count": 11,
     "metadata": {},
     "output_type": "execute_result"
    }
   ],
   "source": [
    "import re\n",
    "\n",
    "corpus = lines.Line.tolist()\n",
    "\n",
    "for line in range(len(corpus)):\n",
    "    corpus[line] = re.sub('\\\\n', '', corpus[line].rstrip())\n",
    "    \n",
    "corpus[:10]"
   ]
  },
  {
   "cell_type": "markdown",
   "metadata": {},
   "source": [
    "<b>CountVectorizer and Naive Bayes</b><br>\n",
    "Set up the vectors with `CountVectorizer` and establish the *X* and *y* variables."
   ]
  },
  {
   "cell_type": "code",
   "execution_count": 23,
   "metadata": {},
   "outputs": [],
   "source": [
    "from sklearn.feature_extraction.text import CountVectorizer\n",
    "\n",
    "vectorizer = CountVectorizer()\n",
    "\n",
    "X = vectorizer.fit_transform(corpus)\n",
    "y = lines.Character"
   ]
  },
  {
   "cell_type": "code",
   "execution_count": 29,
   "metadata": {},
   "outputs": [
    {
     "name": "stdout",
     "output_type": "stream",
     "text": [
      "['crammed', 'cramp', 'cramps', 'crampy', 'cramsonite', 'cranberries', 'crane', 'crank', 'crankshaft', 'cranky', 'crap']\n"
     ]
    }
   ],
   "source": [
    "print(vectorizer.get_feature_names()[5100:5111])"
   ]
  },
  {
   "cell_type": "code",
   "execution_count": 35,
   "metadata": {},
   "outputs": [
    {
     "name": "stdout",
     "output_type": "stream",
     "text": [
      "Number of lines:  70896\n",
      "Number of tokens:  25528\n"
     ]
    }
   ],
   "source": [
    "print('Number of lines: ', len(corpus))\n",
    "print('Number of tokens: ', len(vectorizer.get_feature_names()))"
   ]
  },
  {
   "cell_type": "markdown",
   "metadata": {},
   "source": [
    "Train-test splits"
   ]
  },
  {
   "cell_type": "code",
   "execution_count": 37,
   "metadata": {},
   "outputs": [],
   "source": [
    "from sklearn.model_selection import train_test_split\n",
    "\n",
    "state = 20\n",
    "\n",
    "X_train, X_test, y_train, y_test = train_test_split(X, y, test_size=0.25, random_state=state)"
   ]
  },
  {
   "cell_type": "markdown",
   "metadata": {},
   "source": [
    "Run naive bayes with the data splits"
   ]
  },
  {
   "cell_type": "code",
   "execution_count": 39,
   "metadata": {},
   "outputs": [
    {
     "data": {
      "text/plain": [
       "MultinomialNB(alpha=1.0, class_prior=None, fit_prior=True)"
      ]
     },
     "execution_count": 39,
     "metadata": {},
     "output_type": "execute_result"
    }
   ],
   "source": [
    "from sklearn.naive_bayes import MultinomialNB\n",
    "from sklearn.metrics import accuracy_score\n",
    "\n",
    "nb_clf = MultinomialNB()\n",
    "\n",
    "nb_clf.fit(X_train, y_train)"
   ]
  },
  {
   "cell_type": "code",
   "execution_count": 40,
   "metadata": {},
   "outputs": [
    {
     "name": "stdout",
     "output_type": "stream",
     "text": [
      "Training accuracy is:  0.23956217558113294\n",
      "Test accuracy is:  0.1843827578424735\n"
     ]
    }
   ],
   "source": [
    "train_pred = nb_clf.predict(X_train)\n",
    "test_pred = nb_clf.predict(X_test)\n",
    "\n",
    "print('Training accuracy is: ', accuracy_score(y_train, train_pred))\n",
    "print('Test accuracy is: ', accuracy_score(y_test, test_pred))"
   ]
  }
 ],
 "metadata": {
  "kernelspec": {
   "display_name": "Python 3",
   "language": "python",
   "name": "python3"
  },
  "language_info": {
   "codemirror_mode": {
    "name": "ipython",
    "version": 3
   },
   "file_extension": ".py",
   "mimetype": "text/x-python",
   "name": "python",
   "nbconvert_exporter": "python",
   "pygments_lexer": "ipython3",
   "version": "3.7.1"
  }
 },
 "nbformat": 4,
 "nbformat_minor": 2
}
