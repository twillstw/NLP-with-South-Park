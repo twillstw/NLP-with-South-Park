{
 "cells": [
  {
   "cell_type": "markdown",
   "metadata": {},
   "source": [
    "# Exploring the Word Corpus and EDA"
   ]
  },
  {
   "cell_type": "markdown",
   "metadata": {},
   "source": [
    "With the dataset cleaned, this notebook dives deeper into the actual dialogue and building the word corpus. A large part of that involves examining stop words and making decisions on which words to drop from the data."
   ]
  },
  {
   "cell_type": "code",
   "execution_count": 1,
   "metadata": {},
   "outputs": [],
   "source": [
    "# Load in the packages\n",
    "import pandas as pd\n",
    "import numpy as np\n",
    "import matplotlib.pyplot as plt\n",
    "\n",
    "import seaborn as sns\n",
    "%matplotlib inline\n",
    "sns.set_style('darkgrid')"
   ]
  },
  {
   "cell_type": "markdown",
   "metadata": {},
   "source": [
    "The next few cells set up the data. For more details refer to notebook \\#1."
   ]
  },
  {
   "cell_type": "code",
   "execution_count": 2,
   "metadata": {},
   "outputs": [],
   "source": [
    "lines = pd.read_csv('../data/All-seasons.csv')\n",
    "\n",
    "lines = lines[lines.Season != 'Season']"
   ]
  },
  {
   "cell_type": "code",
   "execution_count": 3,
   "metadata": {},
   "outputs": [],
   "source": [
    "lines[['Season', 'Episode']] = lines[['Season', 'Episode']].astype('int64')"
   ]
  },
  {
   "cell_type": "code",
   "execution_count": 4,
   "metadata": {},
   "outputs": [
    {
     "data": {
      "text/html": [
       "<div>\n",
       "<style scoped>\n",
       "    .dataframe tbody tr th:only-of-type {\n",
       "        vertical-align: middle;\n",
       "    }\n",
       "\n",
       "    .dataframe tbody tr th {\n",
       "        vertical-align: top;\n",
       "    }\n",
       "\n",
       "    .dataframe thead th {\n",
       "        text-align: right;\n",
       "    }\n",
       "</style>\n",
       "<table border=\"1\" class=\"dataframe\">\n",
       "  <thead>\n",
       "    <tr style=\"text-align: right;\">\n",
       "      <th></th>\n",
       "      <th>Season</th>\n",
       "      <th>Episode</th>\n",
       "      <th>Character</th>\n",
       "      <th>Line</th>\n",
       "      <th>Group</th>\n",
       "    </tr>\n",
       "  </thead>\n",
       "  <tbody>\n",
       "    <tr>\n",
       "      <th>0</th>\n",
       "      <td>10</td>\n",
       "      <td>1</td>\n",
       "      <td>Stan</td>\n",
       "      <td>You guys, you guys! Chef is going away. \\n</td>\n",
       "      <td>1</td>\n",
       "    </tr>\n",
       "    <tr>\n",
       "      <th>1</th>\n",
       "      <td>10</td>\n",
       "      <td>1</td>\n",
       "      <td>Kyle</td>\n",
       "      <td>Going away? For how long?\\n</td>\n",
       "      <td>1</td>\n",
       "    </tr>\n",
       "    <tr>\n",
       "      <th>2</th>\n",
       "      <td>10</td>\n",
       "      <td>1</td>\n",
       "      <td>Stan</td>\n",
       "      <td>Forever.\\n</td>\n",
       "      <td>1</td>\n",
       "    </tr>\n",
       "    <tr>\n",
       "      <th>3</th>\n",
       "      <td>10</td>\n",
       "      <td>1</td>\n",
       "      <td>Chef</td>\n",
       "      <td>I'm sorry boys.\\n</td>\n",
       "      <td>0</td>\n",
       "    </tr>\n",
       "    <tr>\n",
       "      <th>4</th>\n",
       "      <td>10</td>\n",
       "      <td>1</td>\n",
       "      <td>Stan</td>\n",
       "      <td>Chef said he's been bored, so he joining a gro...</td>\n",
       "      <td>1</td>\n",
       "    </tr>\n",
       "  </tbody>\n",
       "</table>\n",
       "</div>"
      ],
      "text/plain": [
       "   Season  Episode Character  \\\n",
       "0      10        1      Stan   \n",
       "1      10        1      Kyle   \n",
       "2      10        1      Stan   \n",
       "3      10        1      Chef   \n",
       "4      10        1      Stan   \n",
       "\n",
       "                                                Line  Group  \n",
       "0         You guys, you guys! Chef is going away. \\n      1  \n",
       "1                        Going away? For how long?\\n      1  \n",
       "2                                         Forever.\\n      1  \n",
       "3                                  I'm sorry boys.\\n      0  \n",
       "4  Chef said he's been bored, so he joining a gro...      1  "
      ]
     },
     "execution_count": 4,
     "metadata": {},
     "output_type": "execute_result"
    }
   ],
   "source": [
    "main_chars = ['Cartman', 'Stan', 'Kyle', 'Kenny', 'Butters']\n",
    "\n",
    "lines['Group'] = 0\n",
    "\n",
    "lines.loc[lines.Character.isin(main_chars), 'Group'] = 1\n",
    "\n",
    "lines.head()"
   ]
  },
  {
   "cell_type": "markdown",
   "metadata": {},
   "source": [
    "### Word Corpus"
   ]
  },
  {
   "cell_type": "markdown",
   "metadata": {},
   "source": [
    "Here the basic corpus is created. Essentially, all the strings of dialogue from the `Line` column are compiled into one list. Then, regular expressions are used to remove the new line figure `\\n` from each string."
   ]
  },
  {
   "cell_type": "code",
   "execution_count": 5,
   "metadata": {},
   "outputs": [
    {
     "data": {
      "text/plain": [
       "['You guys, you guys! Chef is going away.',\n",
       " 'Going away? For how long?',\n",
       " 'Forever.',\n",
       " \"I'm sorry boys.\",\n",
       " \"Chef said he's been bored, so he joining a group called the Super Adventure Club.\",\n",
       " 'Wow!',\n",
       " 'Chef?? What kind of questions do you think adventuring around the world is gonna answer?!',\n",
       " \"What's the meaning of life? Why are we here?\",\n",
       " \"I hope you're making the right choice.\",\n",
       " \"I'm gonna miss him.  I'm gonna miss Chef and I...and I don't know how to tell him!\"]"
      ]
     },
     "execution_count": 5,
     "metadata": {},
     "output_type": "execute_result"
    }
   ],
   "source": [
    "import re\n",
    "\n",
    "corpus = lines.Line.tolist()\n",
    "\n",
    "for line in range(len(corpus)):\n",
    "    corpus[line] = re.sub('\\\\n', '', corpus[line].rstrip())\n",
    "    \n",
    "corpus[:10]"
   ]
  },
  {
   "cell_type": "markdown",
   "metadata": {},
   "source": [
    "<b>Average length</b><br>\n",
    "What is the average document length for each line?"
   ]
  },
  {
   "cell_type": "code",
   "execution_count": 6,
   "metadata": {},
   "outputs": [
    {
     "data": {
      "text/plain": [
       "11.455551009466838"
      ]
     },
     "execution_count": 6,
     "metadata": {},
     "output_type": "execute_result"
    }
   ],
   "source": [
    "np.mean([len(doc.split()) for doc in corpus])"
   ]
  },
  {
   "cell_type": "markdown",
   "metadata": {},
   "source": [
    "### Tokens"
   ]
  },
  {
   "cell_type": "markdown",
   "metadata": {},
   "source": [
    "With the corpus created, we can now get even more granular and examine the individual words. First, the contractions are removed. Then, the words from the corpus are compiled into one list and then converted to lowercase with all punctuation removed. Next, the verbs and nouns are lemmatized. And finally, a counter is called and all the words are added to an OrderedDict according to their frequency within the corpus."
   ]
  },
  {
   "cell_type": "code",
   "execution_count": 7,
   "metadata": {},
   "outputs": [],
   "source": [
    "import string\n",
    "import contractions\n",
    "from nltk.stem import WordNetLemmatizer\n",
    "from nltk import word_tokenize\n",
    "\n",
    "for line in range(len(corpus)):\n",
    "    corpus[line] = contractions.fix(corpus[line])\n",
    "\n",
    "words = \" \".join(corpus).lower()\n",
    "words = \" \".join(word.strip(string.punctuation) for word in words.split())"
   ]
  },
  {
   "cell_type": "code",
   "execution_count": 8,
   "metadata": {},
   "outputs": [],
   "source": [
    "lem = WordNetLemmatizer()\n",
    "\n",
    "word_list = word_tokenize(words)\n",
    "word_list = [lem.lemmatize(w, pos='v') for w in word_list]\n",
    "words = ' '.join([lem.lemmatize(w) for w in word_list])"
   ]
  },
  {
   "cell_type": "code",
   "execution_count": 9,
   "metadata": {},
   "outputs": [],
   "source": [
    "from collections import Counter, OrderedDict\n",
    "\n",
    "word_counts = Counter(words.split())\n",
    "\n",
    "token_dict = OrderedDict(word_counts.most_common())"
   ]
  },
  {
   "cell_type": "markdown",
   "metadata": {},
   "source": [
    "Looking at the OrderedDict shows which words show up the most, indicating likely stop words."
   ]
  },
  {
   "cell_type": "code",
   "execution_count": 10,
   "metadata": {},
   "outputs": [
    {
     "data": {
      "text/plain": [
       "[('be', 50399),\n",
       " ('you', 29087),\n",
       " ('the', 25182),\n",
       " ('i', 25032),\n",
       " ('to', 23957),\n",
       " ('a', 16796),\n",
       " ('it', 14770),\n",
       " ('do', 14720),\n",
       " ('not', 14323),\n",
       " ('and', 13407),\n",
       " ('we', 12758),\n",
       " ('that', 11968),\n",
       " ('have', 11793),\n",
       " ('of', 9403),\n",
       " ('what', 8311),\n",
       " ('go', 8168),\n",
       " ('get', 7532),\n",
       " ('in', 7403),\n",
       " ('this', 6868),\n",
       " ('all', 6102),\n",
       " ('on', 6024),\n",
       " ('oh', 5617),\n",
       " ('for', 5602),\n",
       " ('my', 5585),\n",
       " ('can', 5511),\n",
       " ('just', 5206),\n",
       " ('your', 5088),\n",
       " ('me', 5028),\n",
       " ('no', 4595),\n",
       " ('will', 4436),\n",
       " ('with', 4224),\n",
       " ('he', 4183),\n",
       " ('now', 4064),\n",
       " ('but', 3900),\n",
       " ('know', 3899),\n",
       " ('they', 3723),\n",
       " ('yeah', 3672),\n",
       " ('u', 3648),\n",
       " ('so', 3592),\n",
       " ('here', 3589),\n",
       " ('well', 3540),\n",
       " (\"'s\", 3537),\n",
       " ('right', 3462),\n",
       " ('come', 3415),\n",
       " ('like', 3333),\n",
       " ('there', 3278),\n",
       " ('out', 3267),\n",
       " ('want', 3116),\n",
       " ('think', 2921),\n",
       " ('see', 2874),\n",
       " ('up', 2861),\n",
       " ('about', 2714),\n",
       " ('guy', 2609),\n",
       " ('our', 2603),\n",
       " ('make', 2520),\n",
       " ('how', 2483),\n",
       " ('let', 2474),\n",
       " ('say', 2453),\n",
       " ('look', 2412),\n",
       " ('if', 2406),\n",
       " ('at', 2380),\n",
       " ('take', 2185),\n",
       " ('hey', 2144),\n",
       " ('okay', 2105),\n",
       " ('people', 2093),\n",
       " ('dude', 2082),\n",
       " ('would', 2069),\n",
       " ('uh', 2065),\n",
       " ('one', 1990),\n",
       " ('time', 1986),\n",
       " ('who', 1929),\n",
       " ('from', 1867),\n",
       " ('kyle', 1849),\n",
       " ('him', 1747),\n",
       " ('tell', 1729),\n",
       " ('little', 1715),\n",
       " ('really', 1695),\n",
       " ('then', 1687),\n",
       " ('boy', 1674),\n",
       " ('them', 1651),\n",
       " ('god', 1637),\n",
       " ('why', 1636),\n",
       " ('need', 1634),\n",
       " ('back', 1624),\n",
       " ('some', 1600),\n",
       " ('yes', 1557),\n",
       " ('kid', 1531),\n",
       " ('because', 1514),\n",
       " ('mr', 1473),\n",
       " ('his', 1467),\n",
       " ('good', 1454),\n",
       " ('cartman', 1382),\n",
       " ('over', 1369),\n",
       " ('could', 1304),\n",
       " ('an', 1297),\n",
       " ('thing', 1295),\n",
       " ('where', 1258),\n",
       " ('she', 1254),\n",
       " ('butter', 1248),\n",
       " ('stan', 1244),\n",
       " ('mean', 1231),\n",
       " ('give', 1197),\n",
       " ('down', 1194),\n",
       " ('try', 1188),\n",
       " ('when', 1150),\n",
       " ('way', 1148),\n",
       " ('should', 1146),\n",
       " ('or', 1118),\n",
       " ('more', 1110),\n",
       " ('too', 1102),\n",
       " ('kenny', 1091),\n",
       " ('sure', 1076),\n",
       " ('child', 1063),\n",
       " ('something', 1033),\n",
       " ('friend', 1027),\n",
       " ('wait', 1027),\n",
       " ('thank', 1026),\n",
       " ('man', 1016),\n",
       " ('their', 1011),\n",
       " ('hell', 1003),\n",
       " ('by', 997),\n",
       " ('stop', 983),\n",
       " ('help', 969),\n",
       " ('find', 968),\n",
       " ('show', 961),\n",
       " ('alright', 953),\n",
       " ('call', 930),\n",
       " ('please', 928),\n",
       " ('eric', 903),\n",
       " ('off', 895),\n",
       " ('mom', 894),\n",
       " ('her', 892),\n",
       " ('work', 875),\n",
       " ('very', 873),\n",
       " ('huh', 871),\n",
       " ('everyone', 871),\n",
       " ('again', 861),\n",
       " ('talk', 860),\n",
       " ('only', 860),\n",
       " ('play', 851),\n",
       " ('sorry', 846),\n",
       " ('these', 842),\n",
       " ('love', 837),\n",
       " ('day', 835),\n",
       " ('new', 828),\n",
       " ('school', 825),\n",
       " ('dad', 817),\n",
       " ('put', 815),\n",
       " ('kill', 809),\n",
       " ('never', 805),\n",
       " ('into', 798),\n",
       " ('those', 765),\n",
       " ('hello', 756),\n",
       " ('any', 755),\n",
       " ('jesus', 754),\n",
       " ('fuck', 751),\n",
       " ('great', 747),\n",
       " ('live', 723),\n",
       " ('even', 722),\n",
       " ('park', 701),\n",
       " ('start', 698),\n",
       " ('maybe', 693),\n",
       " ('son', 693),\n",
       " ('better', 686),\n",
       " ('two', 670),\n",
       " ('stupid', 667),\n",
       " ('much', 661),\n",
       " ('leave', 655),\n",
       " ('big', 650),\n",
       " ('use', 647),\n",
       " ('keep', 644),\n",
       " ('away', 639),\n",
       " ('feel', 637),\n",
       " ('must', 633),\n",
       " ('happen', 630),\n",
       " ('hear', 630),\n",
       " ('believe', 621),\n",
       " ('money', 620),\n",
       " ('world', 618),\n",
       " ('still', 615),\n",
       " ('other', 613),\n",
       " ('home', 597),\n",
       " ('ever', 595),\n",
       " ('first', 591),\n",
       " ('lot', 574),\n",
       " ('south', 572),\n",
       " ('than', 569),\n",
       " ('watch', 567),\n",
       " ('nothing', 565),\n",
       " ('girl', 562),\n",
       " ('around', 560),\n",
       " ('cool', 555),\n",
       " ('year', 547),\n",
       " ('sir', 532),\n",
       " ('as', 531),\n",
       " ('die', 531),\n",
       " ('bad', 530),\n",
       " ('wow', 525),\n",
       " ('anything', 520),\n",
       " ('guess', 518),\n",
       " ('before', 510),\n",
       " ('understand', 501),\n",
       " ('ah', 500),\n",
       " ('long', 493),\n",
       " ('town', 492),\n",
       " ('name', 490),\n",
       " ('bring', 486),\n",
       " ('last', 485),\n",
       " ('care', 482),\n",
       " ('nice', 480),\n",
       " ('life', 476),\n",
       " ('change', 474),\n",
       " ('kind', 470),\n",
       " ('everything', 464),\n",
       " ('wrong', 458),\n",
       " ('run', 454),\n",
       " ('house', 449),\n",
       " ('another', 445),\n",
       " ('hold', 444),\n",
       " ('night', 442),\n",
       " ('chef', 441),\n",
       " ('best', 439),\n",
       " ('every', 437),\n",
       " ('real', 437),\n",
       " ('bitch', 436),\n",
       " ('fine', 434),\n",
       " ('game', 431),\n",
       " ('today', 428),\n",
       " ('next', 427),\n",
       " ('might', 427),\n",
       " ('idea', 427),\n",
       " ('parent', 426),\n",
       " ('eat', 423),\n",
       " ('shit', 423),\n",
       " ('head', 419),\n",
       " ('fight', 418),\n",
       " ('crap', 412),\n",
       " ('minute', 411),\n",
       " ('gay', 410),\n",
       " ('aw', 407),\n",
       " ('problem', 406),\n",
       " ('through', 405),\n",
       " ('listen', 405),\n",
       " ('ask', 402),\n",
       " ('pretty', 398),\n",
       " ('three', 398),\n",
       " ('family', 398),\n",
       " ('learn', 398),\n",
       " ('place', 396),\n",
       " ('stay', 392)]"
      ]
     },
     "execution_count": 10,
     "metadata": {},
     "output_type": "execute_result"
    }
   ],
   "source": [
    "[(k, v) for k, v in token_dict.items()][:250]"
   ]
  },
  {
   "cell_type": "markdown",
   "metadata": {},
   "source": [
    "### Frequency Metrics"
   ]
  },
  {
   "cell_type": "markdown",
   "metadata": {},
   "source": [
    "Beyond just identifying common words, below are a couple functions to analyze different types of word frequency. The first function compares the total number of times a word appears in the corpus, total frequency, versus the number of documents containing the word, the document frequency."
   ]
  },
  {
   "cell_type": "code",
   "execution_count": 11,
   "metadata": {},
   "outputs": [],
   "source": [
    "def freq_compare(word, corpus=corpus):\n",
    "    '''Takes a word and a word corpus and calculates\n",
    "    the total word frequency and the number of documents\n",
    "    containing that word.'''\n",
    "    \n",
    "    word = word.lower()\n",
    "    \n",
    "    words = \" \".join(corpus).lower()\n",
    "    words = \" \".join(word.strip(string.punctuation) for word in words.split())\n",
    "    \n",
    "    word_counts = Counter(words.split())\n",
    "    token_dict = OrderedDict(word_counts.most_common())\n",
    "    \n",
    "    total_frequency = token_dict[word]\n",
    "    \n",
    "    doc_freq = 0\n",
    "    \n",
    "    for line in corpus:\n",
    "        if word in [token.strip(string.punctuation).lower() for token in line.split()]:\n",
    "            doc_freq += 1\n",
    "    \n",
    "    print('The total frequency of the word \\'{}\\' is: \\t'.format(word), total_frequency)\n",
    "    print('The number of documents with the word \\'{}\\': \\t'.format(word), doc_freq)"
   ]
  },
  {
   "cell_type": "markdown",
   "metadata": {},
   "source": [
    "Now a sanity check:"
   ]
  },
  {
   "cell_type": "code",
   "execution_count": 12,
   "metadata": {},
   "outputs": [
    {
     "name": "stdout",
     "output_type": "stream",
     "text": [
      "The total frequency of the word 'a' is: \t 3\n",
      "The number of documents with the word 'a': \t 2\n"
     ]
    }
   ],
   "source": [
    "freq_compare('A', ['a', 'a a.', 'b'])"
   ]
  },
  {
   "cell_type": "markdown",
   "metadata": {},
   "source": [
    "The next function compares the total frequency of a particular word between the different classes. This is useful for assessing if a particular word has more importance for a particular label. "
   ]
  },
  {
   "cell_type": "code",
   "execution_count": 13,
   "metadata": {},
   "outputs": [],
   "source": [
    "def compare_labels(term):\n",
    "    '''Takes a particular word and calculates\n",
    "    how often it is used by each character'''\n",
    "    \n",
    "    term = term.lower()\n",
    "    \n",
    "    count_dict = {1: 0, 0: 0}\n",
    "    \n",
    "    for k, v in count_dict.items():\n",
    "        subset = lines[lines.Group == k]\n",
    "        \n",
    "        corpus = subset.Line.tolist()\n",
    "\n",
    "        for line in range(len(corpus)):\n",
    "            corpus[line] = re.sub('\\\\n', '', corpus[line].rstrip())\n",
    "        \n",
    "        words = \" \".join(corpus).lower()\n",
    "        words = \" \".join(word.strip(string.punctuation) for word in words.split())\n",
    "    \n",
    "        word_counts = Counter(words.split())\n",
    "        token_dict = OrderedDict(word_counts.most_common())\n",
    "        \n",
    "        if term in token_dict.keys():\n",
    "            count_dict[k] += token_dict[term]\n",
    "        \n",
    "        # Now convert to a ratio\n",
    "        count_dict[k] = round((count_dict[k] / len(subset)), 3)\n",
    "    \n",
    "    print('How often the word \\'{}\\' appears in each class:'.format(term))\n",
    "    print(count_dict)"
   ]
  },
  {
   "cell_type": "markdown",
   "metadata": {},
   "source": [
    "<b>Trying the functions: </b><br>\n",
    "Now that the functions are defined, let's examine a couple words from `token_dict`, the OrderedDict of all words. It helps to keep in mind that there are approximately 71,000 documents in the data, and that the majority class is represented by the label 0."
   ]
  },
  {
   "cell_type": "code",
   "execution_count": 14,
   "metadata": {},
   "outputs": [
    {
     "name": "stdout",
     "output_type": "stream",
     "text": [
      "The total frequency of the word 'the' is: \t 25149\n",
      "The number of documents with the word 'the': \t 16793\n",
      "How often the word 'the' appears in each class:\n",
      "{1: 0.277, 0: 0.405}\n"
     ]
    }
   ],
   "source": [
    "freq_compare('The')\n",
    "compare_labels('The')"
   ]
  },
  {
   "cell_type": "code",
   "execution_count": 23,
   "metadata": {},
   "outputs": [
    {
     "name": "stdout",
     "output_type": "stream",
     "text": [
      "The total frequency of the word 'okay' is: \t 2103\n",
      "The number of documents with the word 'okay': \t 1865\n",
      "How often the word 'okay' appears in each class:\n",
      "{1: 0.031, 0: 0.028}\n"
     ]
    }
   ],
   "source": [
    "freq_compare('okay')\n",
    "compare_labels('okay')"
   ]
  },
  {
   "cell_type": "code",
   "execution_count": 16,
   "metadata": {},
   "outputs": [
    {
     "name": "stdout",
     "output_type": "stream",
     "text": [
      "The total frequency of the word 'dude' is: \t 2048\n",
      "The number of documents with the word 'dude': \t 1998\n",
      "How often the word 'dude' appears in each class:\n",
      "{1: 0.068, 0: 0.003}\n"
     ]
    }
   ],
   "source": [
    "freq_compare('dude')\n",
    "compare_labels('dude')"
   ]
  },
  {
   "cell_type": "markdown",
   "metadata": {},
   "source": [
    "The words 'the' and 'okay' are common words and have fairly uniform frequencies. On the other hand, the word 'dude', although nearly as frequent as 'okay', is used much more frequently by the main characters. This shows that it might be a good word to help identify those characters."
   ]
  },
  {
   "cell_type": "markdown",
   "metadata": {},
   "source": [
    "<b>Sifting through stopwords</b><br>\n",
    "With the functions defined, we can now run them over the list of common words to check the frequency comparisons and confirm which ones should be dropped as stopwords. Below, I have defined a small function to combine the two functions from above."
   ]
  },
  {
   "cell_type": "code",
   "execution_count": 17,
   "metadata": {},
   "outputs": [],
   "source": [
    "def word_freqs(word):\n",
    "    freq_compare(word)\n",
    "    compare_labels(word)"
   ]
  },
  {
   "cell_type": "code",
   "execution_count": 18,
   "metadata": {},
   "outputs": [
    {
     "name": "stdout",
     "output_type": "stream",
     "text": [
      "The total frequency of the word 'than' is: \t 569\n",
      "The number of documents with the word 'than': \t 550\n",
      "How often the word 'than' appears in each class:\n",
      "{1: 0.008, 0: 0.008}\n"
     ]
    }
   ],
   "source": [
    "word_freqs(\"than\")"
   ]
  },
  {
   "cell_type": "markdown",
   "metadata": {},
   "source": [
    "For this process, I chose to manually check each word in `token_dict` in order to really dig into the list and compare each one. Having done so, the final list of stopwords is defined below. While none of the words in the list are too surprising, some of the words I chose to not treat as stopwords may be of interest. For example, I chose to keep 'my' and 'me' because they had slightly inbalanced distributions, which might owe to Cartman's selfish nature. I also chose to keep 'no' and 'not' because those might be useful later when moving beyond a simple bag-of-words model.<br>\n",
    "<br>\n",
    "The final list contains 53 words."
   ]
  },
  {
   "cell_type": "code",
   "execution_count": 19,
   "metadata": {},
   "outputs": [],
   "source": [
    "stop_words = ['be', 'you', 'i', 'to', 'the', 'do', 'it',\\\n",
    "              'a', 'we', 'that', 'and', 'have', 'go', 'what',\\\n",
    "              'get', 'of', 'this', 'in', 'on', 'all', 'just',\\\n",
    "              'for', 'he', 'know', 'will', 'but', 'with', 'so',\\\n",
    "              'they', 'now', 'well', \"'s\", 'guy', 'u', 'come',\\\n",
    "              'like', 'there', 'at', 'would', 'who', 'him',\\\n",
    "              'them', 'his', 'thing', 'where', 'should', 'an',\\\n",
    "              'please', 'maybe', 'their', 'even', 'any', 'than']"
   ]
  },
  {
   "cell_type": "code",
   "execution_count": 20,
   "metadata": {},
   "outputs": [
    {
     "data": {
      "text/plain": [
       "53"
      ]
     },
     "execution_count": 20,
     "metadata": {},
     "output_type": "execute_result"
    }
   ],
   "source": [
    "len(stop_words)"
   ]
  }
 ],
 "metadata": {
  "kernelspec": {
   "display_name": "nlp_southpark",
   "language": "python",
   "name": "nlp_southpark"
  },
  "language_info": {
   "codemirror_mode": {
    "name": "ipython",
    "version": 3
   },
   "file_extension": ".py",
   "mimetype": "text/x-python",
   "name": "python",
   "nbconvert_exporter": "python",
   "pygments_lexer": "ipython3",
   "version": "3.7.4"
  }
 },
 "nbformat": 4,
 "nbformat_minor": 2
}
