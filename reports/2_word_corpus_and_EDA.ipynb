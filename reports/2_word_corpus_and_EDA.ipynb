{
 "cells": [
  {
   "cell_type": "markdown",
   "metadata": {},
   "source": [
    "# Exploring the Word Corpus and EDA"
   ]
  },
  {
   "cell_type": "markdown",
   "metadata": {},
   "source": [
    "With the dataset cleaned and truncated, this notebook dives deeper into the actual dialogue and building the word corpus. A large part of that involves examining stop words and making decisions on which words to drop from the data."
   ]
  },
  {
   "cell_type": "code",
   "execution_count": 1,
   "metadata": {},
   "outputs": [],
   "source": [
    "# Load in the packages\n",
    "import pandas as pd\n",
    "import numpy as np\n",
    "import matplotlib.pyplot as plt\n",
    "\n",
    "import seaborn as sns\n",
    "%matplotlib inline\n",
    "sns.set_style('darkgrid')"
   ]
  },
  {
   "cell_type": "markdown",
   "metadata": {},
   "source": [
    "The next few cells set up the data. For more details refer to notebook \\#1. The adjusted data set is named `lines_final`."
   ]
  },
  {
   "cell_type": "code",
   "execution_count": 2,
   "metadata": {},
   "outputs": [],
   "source": [
    "lines = pd.read_csv('../data/All-seasons.csv')\n",
    "\n",
    "lines = lines[lines.Season != 'Season']"
   ]
  },
  {
   "cell_type": "code",
   "execution_count": 3,
   "metadata": {},
   "outputs": [],
   "source": [
    "lines[['Season', 'Episode']] = lines[['Season', 'Episode']].astype('int64')"
   ]
  },
  {
   "cell_type": "code",
   "execution_count": 4,
   "metadata": {},
   "outputs": [],
   "source": [
    "support_chars = ['Mr. Garrison', 'Chef', 'Sharon',\\\n",
    "                 'Mr. Mackey', 'Gerald', 'Liane', 'Sheila',\\\n",
    "                 'Stephen', 'Ms. Garrison', 'Mrs. Garrison']\n",
    "\n",
    "lines.loc[lines.Character.isin(support_chars), 'Character'] = 'Support Character'"
   ]
  },
  {
   "cell_type": "code",
   "execution_count": 5,
   "metadata": {},
   "outputs": [],
   "source": [
    "final_labels = ['Cartman', 'Stan', 'Kyle', 'Butters', 'Randy', 'Support Character']\n",
    "\n",
    "lines_final = lines[lines.Character.isin(final_labels)]"
   ]
  },
  {
   "cell_type": "markdown",
   "metadata": {},
   "source": [
    "### Word Corpus"
   ]
  },
  {
   "cell_type": "markdown",
   "metadata": {},
   "source": [
    "Here the basic corpus is created. Essentially, all the strings of dialogue from the `Line` column are compiled into one list. Then, regular expressions are used to remove the new line figure `\\n` from each string."
   ]
  },
  {
   "cell_type": "code",
   "execution_count": 6,
   "metadata": {},
   "outputs": [
    {
     "data": {
      "text/plain": [
       "['You guys, you guys! Chef is going away.',\n",
       " 'Going away? For how long?',\n",
       " 'Forever.',\n",
       " \"I'm sorry boys.\",\n",
       " \"Chef said he's been bored, so he joining a group called the Super Adventure Club.\",\n",
       " 'Wow!',\n",
       " 'Chef?? What kind of questions do you think adventuring around the world is gonna answer?!',\n",
       " \"What's the meaning of life? Why are we here?\",\n",
       " \"I hope you're making the right choice.\",\n",
       " \"I'm gonna miss him.  I'm gonna miss Chef and I...and I don't know how to tell him!\"]"
      ]
     },
     "execution_count": 6,
     "metadata": {},
     "output_type": "execute_result"
    }
   ],
   "source": [
    "import re\n",
    "\n",
    "corpus = lines_final.Line.tolist()\n",
    "\n",
    "for line in range(len(corpus)):\n",
    "    corpus[line] = re.sub('\\\\n', '', corpus[line].rstrip())\n",
    "    \n",
    "corpus[:10]"
   ]
  },
  {
   "cell_type": "markdown",
   "metadata": {},
   "source": [
    "<b>Average length</b><br>\n",
    "What is the average document length for each line?"
   ]
  },
  {
   "cell_type": "code",
   "execution_count": 7,
   "metadata": {},
   "outputs": [
    {
     "data": {
      "text/plain": [
       "11.160658881931518"
      ]
     },
     "execution_count": 7,
     "metadata": {},
     "output_type": "execute_result"
    }
   ],
   "source": [
    "np.mean([len(doc.split()) for doc in corpus])"
   ]
  },
  {
   "cell_type": "markdown",
   "metadata": {},
   "source": [
    "### Tokens"
   ]
  },
  {
   "cell_type": "markdown",
   "metadata": {},
   "source": [
    "With the corpus created, we can now get even more granular and examine the individual words. The words from the corpus are compiled into one list and then converted to lowercase with all punctuation removed. Then a counter is called and all the words are added to an OrderedDict according to their frequency within the corpus."
   ]
  },
  {
   "cell_type": "code",
   "execution_count": 8,
   "metadata": {},
   "outputs": [],
   "source": [
    "import string\n",
    "\n",
    "words = \" \".join(corpus).lower()\n",
    "words = \" \".join(word.strip(string.punctuation) for word in words.split())"
   ]
  },
  {
   "cell_type": "code",
   "execution_count": 9,
   "metadata": {},
   "outputs": [],
   "source": [
    "from collections import Counter, OrderedDict\n",
    "\n",
    "word_counts = Counter(words.split())\n",
    "\n",
    "token_dict = OrderedDict(word_counts.most_common())"
   ]
  },
  {
   "cell_type": "markdown",
   "metadata": {},
   "source": [
    "Looking at the OrderedDict shows which words show up the most, indicating likely stop words."
   ]
  },
  {
   "cell_type": "code",
   "execution_count": 11,
   "metadata": {},
   "outputs": [
    {
     "data": {
      "text/plain": [
       "[('you', 12969),\n",
       " ('the', 10567),\n",
       " ('i', 9867),\n",
       " ('to', 9464),\n",
       " ('a', 7114),\n",
       " ('and', 6104),\n",
       " ('it', 5390),\n",
       " ('that', 4583),\n",
       " ('we', 4574),\n",
       " ('is', 4417),\n",
       " ('of', 3998),\n",
       " ('what', 3974),\n",
       " ('this', 3362),\n",
       " ('in', 3305),\n",
       " ('have', 3125),\n",
       " ('my', 3066),\n",
       " ('on', 3053),\n",
       " ('oh', 3019),\n",
       " ('all', 2927),\n",
       " ('just', 2855),\n",
       " ('do', 2740),\n",
       " ('me', 2682),\n",
       " (\"i'm\", 2670),\n",
       " ('for', 2543),\n",
       " ('no', 2528),\n",
       " (\"don't\", 2515),\n",
       " ('are', 2442),\n",
       " ('be', 2283),\n",
       " ('your', 2264),\n",
       " (\"it's\", 2205),\n",
       " ('get', 2166),\n",
       " ('yeah', 2094),\n",
       " ('but', 1989),\n",
       " ('not', 1948),\n",
       " ('with', 1946),\n",
       " ('know', 1928),\n",
       " ('so', 1911),\n",
       " ('dude', 1881),\n",
       " ('now', 1876),\n",
       " ('well', 1871),\n",
       " ('go', 1819),\n",
       " ('can', 1756),\n",
       " ('right', 1692),\n",
       " ('out', 1663),\n",
       " ('like', 1606),\n",
       " ('was', 1596),\n",
       " ('gonna', 1579),\n",
       " (\"that's\", 1545),\n",
       " ('here', 1544),\n",
       " ('kyle', 1492),\n",
       " ('guys', 1470),\n",
       " ('up', 1459),\n",
       " ('about', 1450),\n",
       " (\"you're\", 1402),\n",
       " ('he', 1382),\n",
       " ('come', 1374),\n",
       " ('they', 1294),\n",
       " ('okay', 1278),\n",
       " ('uh', 1248),\n",
       " ('see', 1242),\n",
       " ('our', 1239),\n",
       " ('how', 1230),\n",
       " ('if', 1209),\n",
       " ('think', 1198),\n",
       " ('hey', 1190),\n",
       " ('at', 1162),\n",
       " ('us', 1150),\n",
       " (\"can't\", 1122),\n",
       " (\"we're\", 1092),\n",
       " ('got', 1091),\n",
       " ('there', 1030),\n",
       " ('people', 1025),\n",
       " ('really', 999),\n",
       " ('cartman', 988),\n",
       " ('butters', 926),\n",
       " ('look', 923),\n",
       " ('did', 919),\n",
       " ('why', 910),\n",
       " ('then', 872),\n",
       " ('god', 870),\n",
       " ('him', 860),\n",
       " ('time', 858),\n",
       " ('back', 846),\n",
       " ('one', 843),\n",
       " ('going', 829),\n",
       " ('stan', 829),\n",
       " ('want', 783),\n",
       " ('kenny', 759),\n",
       " ('who', 752),\n",
       " (\"he's\", 749),\n",
       " ('from', 741),\n",
       " ('some', 737),\n",
       " ('good', 714),\n",
       " ('his', 714),\n",
       " ('little', 712),\n",
       " ('will', 711),\n",
       " ('need', 710),\n",
       " ('make', 705),\n",
       " ('mr', 677),\n",
       " ('take', 656),\n",
       " ('yes', 652),\n",
       " (\"let's\", 650),\n",
       " ('because', 648),\n",
       " ('them', 626),\n",
       " ('mom', 618),\n",
       " ('dad', 617),\n",
       " ('over', 616),\n",
       " ('has', 612),\n",
       " ('as', 603),\n",
       " ('hell', 589),\n",
       " ('tell', 581),\n",
       " (\"what's\", 573),\n",
       " ('wanna', 569),\n",
       " (\"there's\", 561),\n",
       " ('too', 559),\n",
       " ('an', 559),\n",
       " ('when', 554),\n",
       " ('wait', 553),\n",
       " (\"i'll\", 549),\n",
       " ('way', 548),\n",
       " ('could', 545),\n",
       " ('been', 542),\n",
       " ('where', 537),\n",
       " ('something', 536),\n",
       " ('doing', 536),\n",
       " ('say', 530),\n",
       " (\"i've\", 527),\n",
       " ('mean', 525),\n",
       " ('or', 525),\n",
       " ('down', 515),\n",
       " ('sure', 514),\n",
       " ('would', 510),\n",
       " ('were', 507),\n",
       " (\"didn't\", 503),\n",
       " ('off', 488),\n",
       " ('had', 487),\n",
       " ('huh', 485),\n",
       " ('more', 485),\n",
       " ('let', 480),\n",
       " ('should', 472),\n",
       " ('stop', 472),\n",
       " ('eric', 461),\n",
       " ('alright', 455),\n",
       " ('school', 450),\n",
       " (\"they're\", 448),\n",
       " ('said', 443),\n",
       " ('thing', 443),\n",
       " ('children', 441),\n",
       " ('stupid', 433),\n",
       " ('please', 431),\n",
       " ('her', 430),\n",
       " ('again', 424),\n",
       " ('man', 424),\n",
       " ('gotta', 424),\n",
       " ('maybe', 417),\n",
       " ('give', 416),\n",
       " (\"isn't\", 413),\n",
       " ('sorry', 408),\n",
       " ('by', 402),\n",
       " ('never', 398),\n",
       " ('cool', 397),\n",
       " ('help', 397),\n",
       " ('jesus', 396),\n",
       " ('their', 396),\n",
       " ('those', 382),\n",
       " ('only', 381),\n",
       " ('she', 380),\n",
       " ('even', 375),\n",
       " ('new', 371),\n",
       " ('better', 371),\n",
       " ('these', 367),\n",
       " ('everyone', 363),\n",
       " ('money', 358),\n",
       " ('any', 355),\n",
       " ('into', 344),\n",
       " ('ass', 343),\n",
       " ('put', 343),\n",
       " (\"doesn't\", 342),\n",
       " ('away', 337),\n",
       " ('very', 336),\n",
       " ('big', 336),\n",
       " (\"we've\", 335),\n",
       " ('show', 332),\n",
       " ('two', 330),\n",
       " ('does', 329),\n",
       " ('hello', 327),\n",
       " ('much', 325),\n",
       " ('love', 324),\n",
       " ('play', 324),\n",
       " ('ah', 323),\n",
       " ('find', 320),\n",
       " ('still', 319),\n",
       " ('kids', 319),\n",
       " ('being', 318),\n",
       " ('am', 318),\n",
       " ('bad', 318),\n",
       " ('boy', 314),\n",
       " ('guess', 309),\n",
       " ('great', 305),\n",
       " ('guy', 305),\n",
       " ('anything', 305),\n",
       " ('believe', 303),\n",
       " ('home', 302),\n",
       " ('ever', 301),\n",
       " ('than', 299),\n",
       " ('try', 299),\n",
       " (\"m'kay\", 297),\n",
       " ('boys', 294),\n",
       " ('wow', 294),\n",
       " ('told', 290),\n",
       " ('son', 288),\n",
       " ('friend', 284),\n",
       " ('friends', 282),\n",
       " ('aw', 280),\n",
       " ('talk', 278),\n",
       " (\"we'll\", 277),\n",
       " (\"you've\", 277),\n",
       " ('other', 277),\n",
       " ('made', 276),\n",
       " ('around', 274),\n",
       " ('fine', 269),\n",
       " ('nice', 267),\n",
       " ('first', 262),\n",
       " ('chef', 261),\n",
       " ('thought', 259),\n",
       " ('day', 259),\n",
       " ('parents', 258),\n",
       " ('crap', 256),\n",
       " ('feel', 255),\n",
       " ('getting', 255),\n",
       " ('things', 254),\n",
       " ('call', 252),\n",
       " ('wrong', 251),\n",
       " ('thank', 247),\n",
       " ('keep', 245),\n",
       " ('real', 242),\n",
       " ('work', 241),\n",
       " ('fuck', 239),\n",
       " ('thanks', 237),\n",
       " ('whoa', 237),\n",
       " ('house', 236),\n",
       " ('pretty', 234),\n",
       " ('kind', 232),\n",
       " ('life', 232),\n",
       " ('before', 232),\n",
       " ('best', 231),\n",
       " ('care', 230),\n",
       " ('long', 229),\n",
       " ('last', 229),\n",
       " ('must', 228)]"
      ]
     },
     "execution_count": 11,
     "metadata": {},
     "output_type": "execute_result"
    }
   ],
   "source": [
    "[(k, v) for k, v in token_dict.items()][:250]"
   ]
  },
  {
   "cell_type": "markdown",
   "metadata": {},
   "source": [
    "### Frequency Metrics"
   ]
  },
  {
   "cell_type": "markdown",
   "metadata": {},
   "source": [
    "Beyond just identifying common words, below are a couple functions to analyze different types of word frequency. The first function compares the total number of times a word appears in the corpus, total frequency, versus the number of documents containing the word, the document frequency."
   ]
  },
  {
   "cell_type": "code",
   "execution_count": 12,
   "metadata": {},
   "outputs": [],
   "source": [
    "def freq_compare(word, corpus=corpus):\n",
    "    '''Takes a word and a word corpus and calculates\n",
    "    the total word frequency and the number of documents\n",
    "    containing that word.'''\n",
    "    \n",
    "    word = word.lower()\n",
    "    \n",
    "    words = \" \".join(corpus).lower()\n",
    "    words = \" \".join(word.strip(string.punctuation) for word in words.split())\n",
    "    \n",
    "    word_counts = Counter(words.split())\n",
    "    token_dict = OrderedDict(word_counts.most_common())\n",
    "    \n",
    "    total_frequency = token_dict[word]\n",
    "    \n",
    "    doc_freq = 0\n",
    "    \n",
    "    for line in corpus:\n",
    "        if word in [token.strip(string.punctuation).lower() for token in line.split()]:\n",
    "            doc_freq += 1\n",
    "    \n",
    "    print('The total frequency of the word \\'{}\\' is: \\t'.format(word), total_frequency)\n",
    "    print('The number of documents with the word \\'{}\\': \\t'.format(word), doc_freq)"
   ]
  },
  {
   "cell_type": "markdown",
   "metadata": {},
   "source": [
    "Now a sanity check:"
   ]
  },
  {
   "cell_type": "code",
   "execution_count": 13,
   "metadata": {},
   "outputs": [
    {
     "name": "stdout",
     "output_type": "stream",
     "text": [
      "The total frequency of the word 'a' is: \t 3\n",
      "The number of documents with the word 'a': \t 2\n"
     ]
    }
   ],
   "source": [
    "freq_compare('A', ['a', 'a a.', 'b'])"
   ]
  },
  {
   "cell_type": "markdown",
   "metadata": {},
   "source": [
    "The next function compares the total frequency of a particular word between the different character labels. This is useful for assessing if a particular word has more importance for specific characters. "
   ]
  },
  {
   "cell_type": "code",
   "execution_count": 16,
   "metadata": {},
   "outputs": [],
   "source": [
    "def compare_labels(term):\n",
    "    '''Takes a particular word and calculates\n",
    "    how often it is used by each character'''\n",
    "    \n",
    "    term = term.lower()\n",
    "    \n",
    "    count_dict = {'Cartman': 0, 'Stan': 0, 'Kyle': 0, 'Butters': 0,\\\n",
    "                  'Randy': 0, 'Support Character': 0}\n",
    "    \n",
    "    for k, v in count_dict.items():\n",
    "        subset = lines_final[lines_final.Character == k]\n",
    "        \n",
    "        corpus = subset.Line.tolist()\n",
    "\n",
    "        for line in range(len(corpus)):\n",
    "            corpus[line] = re.sub('\\\\n', '', corpus[line].rstrip())\n",
    "        \n",
    "        words = \" \".join(corpus).lower()\n",
    "        words = \" \".join(word.strip(string.punctuation) for word in words.split())\n",
    "    \n",
    "        word_counts = Counter(words.split())\n",
    "        token_dict = OrderedDict(word_counts.most_common())\n",
    "        \n",
    "        if term in token_dict.keys():\n",
    "            count_dict[k] += token_dict[term]\n",
    "        \n",
    "        # Now convert to a ratio\n",
    "        count_dict[k] = round((count_dict[k] / len(subset)), 2)\n",
    "    \n",
    "    print('How often the word \\'{}\\' appears in each class:'.format(term))\n",
    "    print(count_dict)"
   ]
  },
  {
   "cell_type": "markdown",
   "metadata": {},
   "source": [
    "<b>Trying the functions: </b><br>\n",
    "Now that the functions are defined, let's examine a couple words from `token_dict`, the OrderedDict of all words. It helps to keep in mind that there are approximately 36,000 documents in the data, and that Cartman, Stan and Kyle have the majority of the lines."
   ]
  },
  {
   "cell_type": "code",
   "execution_count": 17,
   "metadata": {},
   "outputs": [
    {
     "name": "stdout",
     "output_type": "stream",
     "text": [
      "The total frequency of the word 'the' is: \t 10567\n",
      "The number of documents with the word 'the': \t 7574\n",
      "How often the word 'the' appears in each class:\n",
      "{'Cartman': 0.38, 'Stan': 0.23, 'Kyle': 0.22, 'Butters': 0.26, 'Randy': 0.37, 'Support Character': 0.34}\n"
     ]
    }
   ],
   "source": [
    "freq_compare('The')\n",
    "compare_labels('The')"
   ]
  },
  {
   "cell_type": "code",
   "execution_count": 18,
   "metadata": {},
   "outputs": [
    {
     "name": "stdout",
     "output_type": "stream",
     "text": [
      "The total frequency of the word 'but' is: \t 1989\n",
      "The number of documents with the word 'but': \t 1847\n",
      "How often the word 'but' appears in each class:\n",
      "{'Cartman': 0.06, 'Stan': 0.05, 'Kyle': 0.05, 'Butters': 0.08, 'Randy': 0.07, 'Support Character': 0.06}\n"
     ]
    }
   ],
   "source": [
    "freq_compare('but')\n",
    "compare_labels('but')"
   ]
  },
  {
   "cell_type": "code",
   "execution_count": 19,
   "metadata": {},
   "outputs": [
    {
     "name": "stdout",
     "output_type": "stream",
     "text": [
      "The total frequency of the word 'dude' is: \t 1881\n",
      "The number of documents with the word 'dude': \t 1833\n",
      "How often the word 'dude' appears in each class:\n",
      "{'Cartman': 0.04, 'Stan': 0.11, 'Kyle': 0.09, 'Butters': 0.0, 'Randy': 0.0, 'Support Character': 0.0}\n"
     ]
    }
   ],
   "source": [
    "freq_compare('dude')\n",
    "compare_labels('dude')"
   ]
  },
  {
   "cell_type": "markdown",
   "metadata": {},
   "source": [
    "The words 'the' and 'but' are common words and have fairly uniform frequencies. On the other hand, the word 'dude', although nearly as frequent as 'but', is used much more frequently by the first three characters. This shows that it might be a good word to help identify those characters."
   ]
  },
  {
   "cell_type": "markdown",
   "metadata": {},
   "source": [
    "<b>Sifting through stopwords</b><br>\n",
    "With the functions defined, we can now run them over the list of common words to check the frequency comparisons and confirm which ones should be dropped as stopwords. Below, I have defined a small function to combine the two functions from above."
   ]
  },
  {
   "cell_type": "code",
   "execution_count": 20,
   "metadata": {},
   "outputs": [],
   "source": [
    "def word_freqs(word):\n",
    "    freq_compare(word)\n",
    "    compare_labels(word)"
   ]
  },
  {
   "cell_type": "code",
   "execution_count": 125,
   "metadata": {},
   "outputs": [
    {
     "name": "stdout",
     "output_type": "stream",
     "text": [
      "The total frequency of the word 'on' is: \t 3053\n",
      "The number of documents with the word 'on': \t 2755\n",
      "How often the word 'on' appears in each class:\n",
      "{'Cartman': 0.11, 'Stan': 0.08, 'Kyle': 0.07, 'Butters': 0.08, 'Randy': 0.1, 'Support Character': 0.08}\n"
     ]
    }
   ],
   "source": [
    "word_freqs(\"on\")"
   ]
  },
  {
   "cell_type": "markdown",
   "metadata": {},
   "source": [
    "For this process, I chose to manually check each word in order to really dig into the list and compare each one. Having done so, the final list of stopwords is defined below. While none of the words in the list are too surprising, some of the words I chose to not treat as stopwords may be of interest. For example, I chose to keep 'my' and 'mine' because they had slightly inbalanced distributions, which might owe to Cartman's selfish nature. I also chose to keep 'no' and 'not' because those might be useful later when moving beyond a simple bag-of-words model.<br>\n",
    "<br>\n",
    "The final list contains 106 words."
   ]
  },
  {
   "cell_type": "code",
   "execution_count": 126,
   "metadata": {},
   "outputs": [],
   "source": [
    "stop_words = ['you', 'the', 'i', 'to', 'a', 'and', 'it', 'that',\\\n",
    "              'we', 'is', 'of', 'what', 'this', 'in', 'have', 'all',\\\n",
    "              'just', 'do', 'for', \"don't\", 'are', 'be', \"it's\", 'get',\\\n",
    "              'but', 'with', 'know', 'so', 'go', 'can', 'right', 'out',\\\n",
    "              'like', 'was', 'gonna', \"that's\", 'here', 'up', 'about', \\\n",
    "              \"you're\", 'he', 'come', 'they', 'okay', 'see', 'our',\\\n",
    "              'how', 'if', 'think', 'at', 'us', \"can't\", \"we're\", 'got',\\\n",
    "              'there', 'look', 'did', 'why', 'then', 'him', 'time',\\\n",
    "              'back', 'one', 'going', 'want', 'who', \"he's\", 'from', \\\n",
    "              'some', 'his', 'will', 'need', 'make', 'take', 'yes',\\\n",
    "              \"let's\", 'because', 'them', 'has', 'as', \"what's\",\\\n",
    "              \"there's\", 'too', 'an', 'when', 'been', 'where', 'or',\\\n",
    "              'were', 'had', \"they're\", 'her', 'by', 'their', 'those',\\\n",
    "              'she', 'these', 'any', 'into', \"we've\", 'two','does',\\\n",
    "              'much', 'being', 'am', 'than']"
   ]
  },
  {
   "cell_type": "code",
   "execution_count": 127,
   "metadata": {},
   "outputs": [
    {
     "data": {
      "text/plain": [
       "106"
      ]
     },
     "execution_count": 127,
     "metadata": {},
     "output_type": "execute_result"
    }
   ],
   "source": [
    "len(stop_words)"
   ]
  },
  {
   "cell_type": "markdown",
   "metadata": {},
   "source": [
    "Another thing I noticed while testing the stopwords is that the frequencies for Kyle and Stan were consistenly lower than the other characters. I don't know the exact reason for this, but it seems to indicate that the dialogue for those two characters is a bit more unique.<br>\n",
    "Here are a couple examples:"
   ]
  },
  {
   "cell_type": "code",
   "execution_count": 128,
   "metadata": {},
   "outputs": [
    {
     "name": "stdout",
     "output_type": "stream",
     "text": [
      "How often the word 'in' appears in each class:\n",
      "{'Cartman': 0.12, 'Stan': 0.07, 'Kyle': 0.07, 'Butters': 0.09, 'Randy': 0.11, 'Support Character': 0.11}\n"
     ]
    }
   ],
   "source": [
    "compare_labels('in')"
   ]
  },
  {
   "cell_type": "code",
   "execution_count": 129,
   "metadata": {},
   "outputs": [
    {
     "name": "stdout",
     "output_type": "stream",
     "text": [
      "How often the word 'right' appears in each class:\n",
      "{'Cartman': 0.06, 'Stan': 0.03, 'Kyle': 0.03, 'Butters': 0.04, 'Randy': 0.06, 'Support Character': 0.06}\n"
     ]
    }
   ],
   "source": [
    "compare_labels('right')"
   ]
  },
  {
   "cell_type": "markdown",
   "metadata": {},
   "source": [
    "The frequency proportions are lowere for Kyle and Stan. This type of pattern was surprisingly consistent throughout the list of stopwords"
   ]
  }
 ],
 "metadata": {
  "kernelspec": {
   "display_name": "nlp_southpark",
   "language": "python",
   "name": "nlp_southpark"
  },
  "language_info": {
   "codemirror_mode": {
    "name": "ipython",
    "version": 3
   },
   "file_extension": ".py",
   "mimetype": "text/x-python",
   "name": "python",
   "nbconvert_exporter": "python",
   "pygments_lexer": "ipython3",
   "version": "3.7.4"
  }
 },
 "nbformat": 4,
 "nbformat_minor": 2
}
